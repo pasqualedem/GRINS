{
 "cells": [
  {
   "cell_type": "code",
   "execution_count": 1,
   "id": "9e03d3fc",
   "metadata": {},
   "outputs": [],
   "source": [
    "from safetensors.torch import load_file"
   ]
  },
  {
   "cell_type": "code",
   "execution_count": 2,
   "id": "32329a75",
   "metadata": {},
   "outputs": [],
   "source": [
    "m = load_file(\"../out/regress/dinov3/run1/checkpoints/checkpoint_8/model.safetensors\")\n",
    "m1 = load_file(\"../out/regress/dinov3/run1/checkpoints/checkpoint_8/model_1.safetensors\")\n",
    "m2 = load_file(\"../out/regress/dinov3/run1/checkpoints/checkpoint_8/model_2.safetensors\")"
   ]
  },
  {
   "cell_type": "code",
   "execution_count": 7,
   "id": "f0eb4862",
   "metadata": {},
   "outputs": [
    {
     "data": {
      "text/plain": [
       "dict_keys(['backbone.embeddings.cls_token', 'backbone.embeddings.mask_token', 'backbone.embeddings.patch_embeddings.bias', 'backbone.embeddings.patch_embeddings.weight', 'backbone.embeddings.register_tokens', 'backbone.layer.0.attention.k_proj.weight', 'backbone.layer.0.attention.o_proj.bias', 'backbone.layer.0.attention.o_proj.weight', 'backbone.layer.0.attention.q_proj.bias', 'backbone.layer.0.attention.q_proj.weight', 'backbone.layer.0.attention.v_proj.bias', 'backbone.layer.0.attention.v_proj.weight', 'backbone.layer.0.layer_scale1.lambda1', 'backbone.layer.0.layer_scale2.lambda1', 'backbone.layer.0.mlp.down_proj.bias', 'backbone.layer.0.mlp.down_proj.weight', 'backbone.layer.0.mlp.up_proj.bias', 'backbone.layer.0.mlp.up_proj.weight', 'backbone.layer.0.norm1.bias', 'backbone.layer.0.norm1.weight', 'backbone.layer.0.norm2.bias', 'backbone.layer.0.norm2.weight', 'backbone.layer.1.attention.k_proj.weight', 'backbone.layer.1.attention.o_proj.bias', 'backbone.layer.1.attention.o_proj.weight', 'backbone.layer.1.attention.q_proj.bias', 'backbone.layer.1.attention.q_proj.weight', 'backbone.layer.1.attention.v_proj.bias', 'backbone.layer.1.attention.v_proj.weight', 'backbone.layer.1.layer_scale1.lambda1', 'backbone.layer.1.layer_scale2.lambda1', 'backbone.layer.1.mlp.down_proj.bias', 'backbone.layer.1.mlp.down_proj.weight', 'backbone.layer.1.mlp.up_proj.bias', 'backbone.layer.1.mlp.up_proj.weight', 'backbone.layer.1.norm1.bias', 'backbone.layer.1.norm1.weight', 'backbone.layer.1.norm2.bias', 'backbone.layer.1.norm2.weight', 'backbone.layer.10.attention.k_proj.weight', 'backbone.layer.10.attention.o_proj.bias', 'backbone.layer.10.attention.o_proj.weight', 'backbone.layer.10.attention.q_proj.bias', 'backbone.layer.10.attention.q_proj.weight', 'backbone.layer.10.attention.v_proj.bias', 'backbone.layer.10.attention.v_proj.weight', 'backbone.layer.10.layer_scale1.lambda1', 'backbone.layer.10.layer_scale2.lambda1', 'backbone.layer.10.mlp.down_proj.bias', 'backbone.layer.10.mlp.down_proj.weight', 'backbone.layer.10.mlp.up_proj.bias', 'backbone.layer.10.mlp.up_proj.weight', 'backbone.layer.10.norm1.bias', 'backbone.layer.10.norm1.weight', 'backbone.layer.10.norm2.bias', 'backbone.layer.10.norm2.weight', 'backbone.layer.11.attention.k_proj.weight', 'backbone.layer.11.attention.o_proj.bias', 'backbone.layer.11.attention.o_proj.weight', 'backbone.layer.11.attention.q_proj.bias', 'backbone.layer.11.attention.q_proj.weight', 'backbone.layer.11.attention.v_proj.bias', 'backbone.layer.11.attention.v_proj.weight', 'backbone.layer.11.layer_scale1.lambda1', 'backbone.layer.11.layer_scale2.lambda1', 'backbone.layer.11.mlp.down_proj.bias', 'backbone.layer.11.mlp.down_proj.weight', 'backbone.layer.11.mlp.up_proj.bias', 'backbone.layer.11.mlp.up_proj.weight', 'backbone.layer.11.norm1.bias', 'backbone.layer.11.norm1.weight', 'backbone.layer.11.norm2.bias', 'backbone.layer.11.norm2.weight', 'backbone.layer.2.attention.k_proj.weight', 'backbone.layer.2.attention.o_proj.bias', 'backbone.layer.2.attention.o_proj.weight', 'backbone.layer.2.attention.q_proj.bias', 'backbone.layer.2.attention.q_proj.weight', 'backbone.layer.2.attention.v_proj.bias', 'backbone.layer.2.attention.v_proj.weight', 'backbone.layer.2.layer_scale1.lambda1', 'backbone.layer.2.layer_scale2.lambda1', 'backbone.layer.2.mlp.down_proj.bias', 'backbone.layer.2.mlp.down_proj.weight', 'backbone.layer.2.mlp.up_proj.bias', 'backbone.layer.2.mlp.up_proj.weight', 'backbone.layer.2.norm1.bias', 'backbone.layer.2.norm1.weight', 'backbone.layer.2.norm2.bias', 'backbone.layer.2.norm2.weight', 'backbone.layer.3.attention.k_proj.weight', 'backbone.layer.3.attention.o_proj.bias', 'backbone.layer.3.attention.o_proj.weight', 'backbone.layer.3.attention.q_proj.bias', 'backbone.layer.3.attention.q_proj.weight', 'backbone.layer.3.attention.v_proj.bias', 'backbone.layer.3.attention.v_proj.weight', 'backbone.layer.3.layer_scale1.lambda1', 'backbone.layer.3.layer_scale2.lambda1', 'backbone.layer.3.mlp.down_proj.bias', 'backbone.layer.3.mlp.down_proj.weight', 'backbone.layer.3.mlp.up_proj.bias', 'backbone.layer.3.mlp.up_proj.weight', 'backbone.layer.3.norm1.bias', 'backbone.layer.3.norm1.weight', 'backbone.layer.3.norm2.bias', 'backbone.layer.3.norm2.weight', 'backbone.layer.4.attention.k_proj.weight', 'backbone.layer.4.attention.o_proj.bias', 'backbone.layer.4.attention.o_proj.weight', 'backbone.layer.4.attention.q_proj.bias', 'backbone.layer.4.attention.q_proj.weight', 'backbone.layer.4.attention.v_proj.bias', 'backbone.layer.4.attention.v_proj.weight', 'backbone.layer.4.layer_scale1.lambda1', 'backbone.layer.4.layer_scale2.lambda1', 'backbone.layer.4.mlp.down_proj.bias', 'backbone.layer.4.mlp.down_proj.weight', 'backbone.layer.4.mlp.up_proj.bias', 'backbone.layer.4.mlp.up_proj.weight', 'backbone.layer.4.norm1.bias', 'backbone.layer.4.norm1.weight', 'backbone.layer.4.norm2.bias', 'backbone.layer.4.norm2.weight', 'backbone.layer.5.attention.k_proj.weight', 'backbone.layer.5.attention.o_proj.bias', 'backbone.layer.5.attention.o_proj.weight', 'backbone.layer.5.attention.q_proj.bias', 'backbone.layer.5.attention.q_proj.weight', 'backbone.layer.5.attention.v_proj.bias', 'backbone.layer.5.attention.v_proj.weight', 'backbone.layer.5.layer_scale1.lambda1', 'backbone.layer.5.layer_scale2.lambda1', 'backbone.layer.5.mlp.down_proj.bias', 'backbone.layer.5.mlp.down_proj.weight', 'backbone.layer.5.mlp.up_proj.bias', 'backbone.layer.5.mlp.up_proj.weight', 'backbone.layer.5.norm1.bias', 'backbone.layer.5.norm1.weight', 'backbone.layer.5.norm2.bias', 'backbone.layer.5.norm2.weight', 'backbone.layer.6.attention.k_proj.weight', 'backbone.layer.6.attention.o_proj.bias', 'backbone.layer.6.attention.o_proj.weight', 'backbone.layer.6.attention.q_proj.bias', 'backbone.layer.6.attention.q_proj.weight', 'backbone.layer.6.attention.v_proj.bias', 'backbone.layer.6.attention.v_proj.weight', 'backbone.layer.6.layer_scale1.lambda1', 'backbone.layer.6.layer_scale2.lambda1', 'backbone.layer.6.mlp.down_proj.bias', 'backbone.layer.6.mlp.down_proj.weight', 'backbone.layer.6.mlp.up_proj.bias', 'backbone.layer.6.mlp.up_proj.weight', 'backbone.layer.6.norm1.bias', 'backbone.layer.6.norm1.weight', 'backbone.layer.6.norm2.bias', 'backbone.layer.6.norm2.weight', 'backbone.layer.7.attention.k_proj.weight', 'backbone.layer.7.attention.o_proj.bias', 'backbone.layer.7.attention.o_proj.weight', 'backbone.layer.7.attention.q_proj.bias', 'backbone.layer.7.attention.q_proj.weight', 'backbone.layer.7.attention.v_proj.bias', 'backbone.layer.7.attention.v_proj.weight', 'backbone.layer.7.layer_scale1.lambda1', 'backbone.layer.7.layer_scale2.lambda1', 'backbone.layer.7.mlp.down_proj.bias', 'backbone.layer.7.mlp.down_proj.weight', 'backbone.layer.7.mlp.up_proj.bias', 'backbone.layer.7.mlp.up_proj.weight', 'backbone.layer.7.norm1.bias', 'backbone.layer.7.norm1.weight', 'backbone.layer.7.norm2.bias', 'backbone.layer.7.norm2.weight', 'backbone.layer.8.attention.k_proj.weight', 'backbone.layer.8.attention.o_proj.bias', 'backbone.layer.8.attention.o_proj.weight', 'backbone.layer.8.attention.q_proj.bias', 'backbone.layer.8.attention.q_proj.weight', 'backbone.layer.8.attention.v_proj.bias', 'backbone.layer.8.attention.v_proj.weight', 'backbone.layer.8.layer_scale1.lambda1', 'backbone.layer.8.layer_scale2.lambda1', 'backbone.layer.8.mlp.down_proj.bias', 'backbone.layer.8.mlp.down_proj.weight', 'backbone.layer.8.mlp.up_proj.bias', 'backbone.layer.8.mlp.up_proj.weight', 'backbone.layer.8.norm1.bias', 'backbone.layer.8.norm1.weight', 'backbone.layer.8.norm2.bias', 'backbone.layer.8.norm2.weight', 'backbone.layer.9.attention.k_proj.weight', 'backbone.layer.9.attention.o_proj.bias', 'backbone.layer.9.attention.o_proj.weight', 'backbone.layer.9.attention.q_proj.bias', 'backbone.layer.9.attention.q_proj.weight', 'backbone.layer.9.attention.v_proj.bias', 'backbone.layer.9.attention.v_proj.weight', 'backbone.layer.9.layer_scale1.lambda1', 'backbone.layer.9.layer_scale2.lambda1', 'backbone.layer.9.mlp.down_proj.bias', 'backbone.layer.9.mlp.down_proj.weight', 'backbone.layer.9.mlp.up_proj.bias', 'backbone.layer.9.mlp.up_proj.weight', 'backbone.layer.9.norm1.bias', 'backbone.layer.9.norm1.weight', 'backbone.layer.9.norm2.bias', 'backbone.layer.9.norm2.weight', 'backbone.norm.bias', 'backbone.norm.weight', 'head.0.bias', 'head.0.weight', 'head.2.bias', 'head.2.weight', 'head.4.bias', 'head.4.weight'])"
      ]
     },
     "execution_count": 7,
     "metadata": {},
     "output_type": "execute_result"
    }
   ],
   "source": [
    "m.keys()"
   ]
  }
 ],
 "metadata": {
  "kernelspec": {
   "display_name": "grins",
   "language": "python",
   "name": "python3"
  },
  "language_info": {
   "codemirror_mode": {
    "name": "ipython",
    "version": 3
   },
   "file_extension": ".py",
   "mimetype": "text/x-python",
   "name": "python",
   "nbconvert_exporter": "python",
   "pygments_lexer": "ipython3",
   "version": "3.12.3"
  }
 },
 "nbformat": 4,
 "nbformat_minor": 5
}
