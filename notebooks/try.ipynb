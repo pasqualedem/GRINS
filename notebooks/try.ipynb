{
 "cells": [
  {
   "cell_type": "code",
   "execution_count": 1,
   "id": "6c3381b6",
   "metadata": {},
   "outputs": [],
   "source": [
    "import sys\n",
    "sys.path.append(\"..\")\n",
    "import lovely_tensors as lt\n",
    "from tqdm import tqdm\n",
    "import os\n",
    "import pandas as pd\n",
    "from torchvision.transforms.functional import to_pil_image\n",
    "lt.monkey_patch()"
   ]
  },
  {
   "cell_type": "code",
   "execution_count": 2,
   "id": "d0704030",
   "metadata": {},
   "outputs": [
    {
     "name": "stderr",
     "output_type": "stream",
     "text": [
      "\u001b[32m2025-09-22 12:37:41.062\u001b[0m | \u001b[1mINFO    \u001b[0m | \u001b[36mgrins.config\u001b[0m:\u001b[36m<module>\u001b[0m:\u001b[36m11\u001b[0m - \u001b[1mPROJ_ROOT path is: /home/nicola/Development/GRINS\u001b[0m\n"
     ]
    }
   ],
   "source": [
    "from grins.data.mit_place_pulse.dataset import MITPlacePulseDataset\n",
    "from grins.config import EXTERNAL_DATA_DIR"
   ]
  },
  {
   "cell_type": "code",
   "execution_count": 3,
   "id": "d49867cf",
   "metadata": {},
   "outputs": [],
   "source": [
    "ds = MITPlacePulseDataset(\"../data/external/mit-place-pulse\", split=\"train\")"
   ]
  },
  {
   "cell_type": "code",
   "execution_count": 4,
   "id": "62a17987",
   "metadata": {},
   "outputs": [],
   "source": [
    "df = ds.data"
   ]
  },
  {
   "cell_type": "code",
   "execution_count": 7,
   "id": "725958d9",
   "metadata": {},
   "outputs": [
    {
     "data": {
      "text/plain": [
       "array(['right', 'left', 'equal',\n",
       "       '\";print(md5(acunetix_wvs_security_test));$a=\"',\n",
       "       '(select(0)from(select(sleep(6)))v)/*\\'+(select(0)from(select(sleep(6)))v)+\\'\"+(select(0)from(select(sleep(6)))v)+\"*/',\n",
       "       '../../../../../../../../../../windows/win.ini', 'lePr',\n",
       "       'file:///etc/passwd', '/etc/passwd',\n",
       "       \"iPc2hXMT');select pg_sleep(9); -- \", 'rigPr',\n",
       "       ';print(md5(acunetix_wvs_security_test));',\n",
       "       'right\\'\"()&%<acx><ScRiPt >hnBv(9625)</ScRiPt>',\n",
       "       '<U+FFFD><U+FFFD><U+FFFD><U+FFFD><U+FFFD><U+FFFD><U+FFFD><U+FFFD><U+FFFD><U+FFFD><U+FFFD><U+FFFD><U+FFFD><U+FFFD><U+FFFD><U+FFFD><U+FFFD><U+FFFD><U+FFFD><U+FFFD><U+FFFD><U+FFFD><U+FFFD><U+FFFD><U+FFFD><U+FFFD><U+FFFD><U+FFFD><U+FFFD><U+FFFD><U+FFFD><U+FFFD><U+FFFD><U+FFFD><U+FFFD><U+FFFD><U+FFFD><U+FFFD><U+FFFD><U+FFFD><U+FFFD><U+FFFD><U+FFFD><U+FFFD><U+FFFD><U+FFFD><U+FFFD><U+FFFD>windows<U+FFFD><U+FFFD>win.ini',\n",
       "       '$(nslookup ErfMv0bx)',\n",
       "       '/.././.././.././.././.././.././.././../etc/./passwd%00',\n",
       "       '12345\\'\"\\\\\\'\\\\\");|]*', 'equPr', 'tbFr9gKC', '${10000266+9999972}',\n",
       "       '${@print(md5(acunetix_wvs_security_test))}',\n",
       "       '..<U+FFFD><U+FFFD>..<U+FFFD><U+FFFD>..<U+FFFD><U+FFFD>..<U+FFFD><U+FFFD>..<U+FFFD><U+FFFD>..<U+FFFD><U+FFFD>..<U+FFFD><U+FFFD>..<U+FFFD><U+FFFD>etc/passwd',\n",
       "       '&nslookup FRs2FnWK&\\'\\\\\"`0&nslookup FRs2FnWK&`\\'',\n",
       "       '................windowswin.ini', '!(()&&!|*|*|',\n",
       "       \"'+response.write(9854781*9182327)+'\",\n",
       "       '../..//../..//../..//../..//../..//../..//../..//../..//windows/win.ini',\n",
       "       'http://testasp.vulnweb.com/t/fit.txt?.jpg', '\\'\"',\n",
       "       'WEB-INF\\\\web.xml', 'response.write(9854781*9182327)',\n",
       "       '-1 OR 2+396-396-1=0+0+0+1',\n",
       "       '/\\\\../\\\\../\\\\../\\\\../\\\\../\\\\../\\\\../etc/passwd',\n",
       "       '^(#$!@#$)(()))******',\n",
       "       'invalid../../../../../../../../../../etc/passwd/././././././././././././././././././././././././././././././././././././././././././././././././././././././././././././././././././././././././././././././././././././././././././././././././././././././././././././././././././././././././././././././././././././././././././././././././././././././././././././././././././././././././././././././././././././././././././././././././././././././././././././././././././././././././././././././././././././././././././././././././././././././././././././././././././././././././././././././././././././././././././././././././././././././././././././././././././././././././././././././././././././././././././././././././././././././././././././././././././././././././././././././././././././././././././././././././././././././././././././././././././././././././././././././././././././././././././././././././././././././././././././././././././././././././././././././././././././././././././././././././././././././././././././././././././././././././././././././././././././././././././././././././././././././././././././././././././././././././././././././././././././././././././././././././././././././././././././././././././././././././././././././././././././././././././././././././././././././././././././././././././././././././././././././././././././././././././././././././././././././././././././././././././././././././././././././././././././././././././././././././././././././././././././././././././././././././././././././././././././././././././././././././././././././././././././././././././././././././././././././././././././././././././././././././././././././././././././././././././././././././././././././././././././././././././././././././././././././././././././././././././././././././././././././././././././././././././././././././././././././././././././././././././././././././././././././././././././././././././././././././././././././././././././././././././././././././././././././././././././././././././././././././././././././././././././././././././././././././././././././././././././././././././././././././././././././././././././././././././././././././././././././././././././././././././././././././././././././././././././././././././././././././././././././././././././././././././././././././././././././././././././././././././././././././././././././././././././././././././././././././././././././././././././././././././././././././././././././././././././././././././././././././././././././././././././././././././././././././././././././././././././././././././././././././././././././././././././././././././././././././././././././././././././././././././././././././././././././././././././././././././././././././././././././././././././././././././././././././././././././././././././././././././././././././././././././././././././././././././././././././././././././././././././././././././././././././././././././././././././././././././././././././././././././././././././././././././././././././././././././././././././././././././././././././././././././././././././././././././././././././././././././././././././././././././././././././././././././././././././././././././././././././././././././././././././././././././././././././././././././././././././././././././././././././././././././././././././././././././././././././././././././././././././././././././././././././././././././././././././././././././././././././././././././././././././././././././././././././././././././././././././././././././././././././././././././././././././././././././././././././././././././././././././././././././././././././././././././././././././././././././././././././././././././././././././././././././././././././././././././././././././././././././././././././././././././././././././././././././././././././././././././././././././././././././././././././././././././././././././././././././././././././././././././././././././././././././././././././././././././././././././././././././././././././././././.',\n",
       "       '\\'\"()&%<acx><ScRiPt >hnBv(9029)</ScRiPt>',\n",
       "       'http://testasp.vulnweb.com/t/xss.html?%00.jpg', '1\\'\"',\n",
       "       'http://some-inexistent-website.acu/some_inexistent_file_with_long_name?.jpg',\n",
       "       '<U+FFFD>\\'<U+FFFD>\"', ')', 'index.php/.', 'JyI=',\n",
       "       'WEB-INF/web.xml', 'index.php', \"1 waitfor delay '0:0:6' -- \",\n",
       "       \"-1' OR 2+68-68-1=0+0+0+1 -- \",\n",
       "       '../../../../../../../../../../../../../../../proc/version',\n",
       "       'if(now()=sysdate(),sleep(6),0)/*\\'XOR(if(now()=sysdate(),sleep(6),0))OR\\'\"XOR(if(now()=sysdate(),sleep(6),0))OR\"*/',\n",
       "       '<!--', '..\\\\..\\\\..\\\\..\\\\..\\\\..\\\\..\\\\..\\\\windows\\\\win.ini',\n",
       "       \"neOLSLWe'));select pg_sleep(9); -- \",\n",
       "       '../../../../../../../../../../boot.ini', '1acuIkbaRLjz1G',\n",
       "       '/../..//../..//../..//../..//../..//etc/passwd',\n",
       "       \"';print(md5(acunetix_wvs_security_test));$a='\",\n",
       "       '../.../.././../.../.././../.../.././../.../.././../.../.././../.../.././etc/passwd',\n",
       "       'testasp.vulnweb.com',\n",
       "       '..%2F..%2F..%2F..%2F..%2F..%2F..%2F..%2F..%2F..%2Fetc%2Fpasswd%00.jpg',\n",
       "       '/WEB-INF/web.xml', \"Tlh2b1Ci';select pg_sleep(9); -- \",\n",
       "       '/www.vulnweb.com', 'right&n907056=v981114',\n",
       "       ')))))))))))))))))))))))))))))))))))))))))))))))))))))))))))))))))))))',\n",
       "       '\\\\', '\\'\"()', 'http://hitNRbHuzHzfH.bxss.me/'], dtype=object)"
      ]
     },
     "execution_count": 7,
     "metadata": {},
     "output_type": "execute_result"
    }
   ],
   "source": [
    "df[\"choice\"].unique()"
   ]
  },
  {
   "cell_type": "code",
   "execution_count": null,
   "id": "1f5c806a",
   "metadata": {},
   "outputs": [],
   "source": [
    "tasks = set()\n",
    "for i in range(len(ds)):\n",
    "    tasks.add(ds[i][\"question\"])\n",
    "    if len(tasks) == 6:\n",
    "        break\n",
    "print(tasks)"
   ]
  },
  {
   "cell_type": "code",
   "execution_count": null,
   "id": "d05d8a07",
   "metadata": {},
   "outputs": [],
   "source": [
    "# show image0 as PIL\n",
    "to_pil_image(ds[0][\"image0\"])"
   ]
  },
  {
   "cell_type": "code",
   "execution_count": null,
   "id": "29a4e570",
   "metadata": {},
   "outputs": [],
   "source": [
    "import torch\n",
    "from transformers import AutoImageProcessor, AutoModel\n",
    "from transformers.image_utils import load_image\n",
    "\n",
    "pretrained_model_name = \"facebook/dinov3-vitb16-pretrain-lvd1689m\"\n",
    "processor = AutoImageProcessor.from_pretrained(pretrained_model_name)\n",
    "model = AutoModel.from_pretrained(\n",
    "    pretrained_model_name, \n",
    "    device_map=\"auto\", \n",
    ")\n",
    "\n",
    "inputs = processor(images=ds[0][\"image0\"], return_tensors=\"pt\").to(model.device)\n",
    "print(inputs)\n",
    "with torch.inference_mode():\n",
    "    outputs = model(**inputs)\n",
    "\n",
    "pooled_output = outputs.pooler_output\n",
    "pooled_output, outputs.last_hidden_state[0, 0]"
   ]
  }
 ],
 "metadata": {
  "kernelspec": {
   "display_name": "GRINS",
   "language": "python",
   "name": "python3"
  },
  "language_info": {
   "codemirror_mode": {
    "name": "ipython",
    "version": 3
   },
   "file_extension": ".py",
   "mimetype": "text/x-python",
   "name": "python",
   "nbconvert_exporter": "python",
   "pygments_lexer": "ipython3",
   "version": "3.12.3"
  }
 },
 "nbformat": 4,
 "nbformat_minor": 5
}
