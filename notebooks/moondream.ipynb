{
 "cells": [
  {
   "cell_type": "code",
   "execution_count": null,
   "id": "3904956b",
   "metadata": {},
   "outputs": [],
   "source": [
    "import sys\n",
    "sys.path.append(\"..\")\n",
    "import os\n",
    "os.environ[\"CUDA_VISIBLE_DEVICES\"] = \"1\"  # or \"0,1\" for multiple GPUs"
   ]
  },
  {
   "cell_type": "code",
   "execution_count": null,
   "id": "90d737a3",
   "metadata": {},
   "outputs": [],
   "source": [
    "import torch\n",
    "from transformers import AutoModelForCausalLM, BitsAndBytesConfig\n",
    "from PIL import Image"
   ]
  },
  {
   "cell_type": "code",
   "execution_count": null,
   "id": "70c83021",
   "metadata": {},
   "outputs": [],
   "source": [
    "moondream = AutoModelForCausalLM.from_pretrained(\n",
    "    \"moondream/moondream3-preview\",\n",
    "    trust_remote_code=True,\n",
    "    torch_dtype=torch.bfloat16,\n",
    "    device_map={\"\": \"cuda\"},\n",
    ")\n",
    "moondream.compile()"
   ]
  },
  {
   "cell_type": "code",
   "execution_count": null,
   "id": "5d85bf44",
   "metadata": {},
   "outputs": [],
   "source": [
    "image = Image.open(\"output.png\").convert(\"RGB\")\n",
    "image"
   ]
  },
  {
   "cell_type": "code",
   "execution_count": null,
   "id": "26cd3c16",
   "metadata": {},
   "outputs": [],
   "source": [
    "result = moondream.query(image=image, question=\"Write 5 image editing prompts for improving the perceived safety of this street scene. For each possible improvement, provide a json with the keys 'prompt', 'explanation' and 'localization', where the localization should correspond to a short description of the region and its location in the image.\")\n",
    "# result = moondream.query(image=image, question=\"Which objects are shown in the image?\")\n",
    "print(result[\"answer\"])"
   ]
  },
  {
   "cell_type": "code",
   "execution_count": null,
   "id": "590e0fb9",
   "metadata": {},
   "outputs": [],
   "source": [
    "result"
   ]
  },
  {
   "cell_type": "code",
   "execution_count": null,
   "id": "acc8993d",
   "metadata": {},
   "outputs": [],
   "source": [
    "result = moondream.detect(image, \"Near the intersection on the left side of the street.\")\n",
    "\n",
    "# Bounding boxes are normalized coordinates (0-1)\n",
    "for i, obj in enumerate(result[\"objects\"]):\n",
    "    print(f\"Object {i+1}: \"\n",
    "          f\"x_min={obj['x_min']:.3f}, y_min={obj['y_min']:.3f}, \"\n",
    "          f\"x_max={obj['x_max']:.3f}, y_max={obj['y_max']:.3f}\")"
   ]
  },
  {
   "cell_type": "code",
   "execution_count": null,
   "id": "addb0ca6",
   "metadata": {},
   "outputs": [],
   "source": [
    "# ...existing code...\n",
    "\n",
    "import torchvision.transforms as T\n",
    "from torchvision.utils import draw_bounding_boxes\n",
    "import torch\n",
    "\n",
    "# Suppose 'output' is your list of dicts with 'bbox_2d' and 'prompt'\n",
    "# Example: output = [{\"bbox_2d\": [x1, y1, x2, y2], \"prompt\": \"Add a tree\"}, ...]\n",
    "\n",
    "# Convert PIL image to tensor (C, H, W) and scale to [0, 255]\n",
    "img_tensor = T.ToTensor()(image) * 255\n",
    "img_tensor = img_tensor.type(torch.uint8)\n",
    "\n",
    "# Prepare bounding boxes and labels\n",
    "boxes = torch.tensor([[obj[\"x_min\"] * image.width, \n",
    "                        obj[\"y_min\"] * image.height,\n",
    "                        obj[\"x_max\"] * image.width,\n",
    "                        obj[\"y_max\"] * image.height\n",
    "                      ] for obj in result[\"objects\"]], dtype=torch.int)\n",
    "labels = [f\"Obj {i+1}\" for i in range(len(result[\"objects\"]))]\n",
    "\n",
    "# Draw bounding boxes\n",
    "img_with_boxes = draw_bounding_boxes(\n",
    "    img_tensor, boxes, labels=labels, colors=\"red\", width=3, font_size=18\n",
    ")\n",
    "\n",
    "# Convert back to PIL for display\n",
    "from torchvision.transforms.functional import to_pil_image\n",
    "display(to_pil_image(img_with_boxes))"
   ]
  }
 ],
 "metadata": {
  "kernelspec": {
   "display_name": "GRINS",
   "language": "python",
   "name": "python3"
  },
  "language_info": {
   "codemirror_mode": {
    "name": "ipython",
    "version": 3
   },
   "file_extension": ".py",
   "mimetype": "text/x-python",
   "name": "python",
   "nbconvert_exporter": "python",
   "pygments_lexer": "ipython3",
   "version": "3.12.3"
  }
 },
 "nbformat": 4,
 "nbformat_minor": 5
}
